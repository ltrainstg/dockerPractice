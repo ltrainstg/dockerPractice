{
 "cells": [
  {
   "cell_type": "code",
   "execution_count": 12,
   "id": "50e3ecad-dc45-46ec-a296-ebb2fa900dfb",
   "metadata": {},
   "outputs": [],
   "source": [
    "import os\n",
    "import json"
   ]
  },
  {
   "cell_type": "code",
   "execution_count": 13,
   "id": "2fc6c017-1a13-4585-bbc7-fd41b96756eb",
   "metadata": {},
   "outputs": [],
   "source": [
    "currentDir = os.getcwd()\n",
    "inputPath = f\"{currentDir}/input/input.json\""
   ]
  },
  {
   "cell_type": "code",
   "execution_count": 14,
   "id": "45f8bec5-4695-4aab-b3ea-fdc70c6a7331",
   "metadata": {},
   "outputs": [
    {
     "data": {
      "text/plain": [
       "'{\"Sepal.Length\":[5.1,4.9,4.7,4.6,5,5.4],\"Sepal.Width\":[3.5,3,3.2,3.1,3.6,3.9],\"Petal.Length\":[1.4,1.4,1.3,1.5,1.4,1.7],\"Petal.Width\":[0.2,0.2,0.2,0.2,0.2,0.4],\"Species\":[\"setosa\",\"setosa\",\"setosa\",\"setosa\",\"setosa\",\"setosa\"]}\\n'"
      ]
     },
     "execution_count": 14,
     "metadata": {},
     "output_type": "execute_result"
    }
   ],
   "source": [
    "A = open(inputPath, 'r')\n",
    "JDATA = A.read()\n",
    "JDATA"
   ]
  },
  {
   "cell_type": "code",
   "execution_count": 15,
   "id": "63485428-e05b-4878-949d-8753652862e6",
   "metadata": {},
   "outputs": [
    {
     "ename": "SyntaxError",
     "evalue": "invalid syntax (Temp/ipykernel_20532/3079958649.py, line 1)",
     "output_type": "error",
     "traceback": [
      "\u001b[1;36m  File \u001b[1;32m\"C:\\Users\\Lionel\\AppData\\Local\\Temp/ipykernel_20532/3079958649.py\"\u001b[1;36m, line \u001b[1;32m1\u001b[0m\n\u001b[1;33m    JDATA.class\u001b[0m\n\u001b[1;37m              ^\u001b[0m\n\u001b[1;31mSyntaxError\u001b[0m\u001b[1;31m:\u001b[0m invalid syntax\n"
     ]
    }
   ],
   "source": []
  },
  {
   "cell_type": "code",
   "execution_count": null,
   "id": "75d2e127-5c0e-4ae2-ad07-f310118e7e88",
   "metadata": {},
   "outputs": [],
   "source": []
  }
 ],
 "metadata": {
  "kernelspec": {
   "display_name": "Python 3 (ipykernel)",
   "language": "python",
   "name": "python3"
  },
  "language_info": {
   "codemirror_mode": {
    "name": "ipython",
    "version": 3
   },
   "file_extension": ".py",
   "mimetype": "text/x-python",
   "name": "python",
   "nbconvert_exporter": "python",
   "pygments_lexer": "ipython3",
   "version": "3.7.0"
  }
 },
 "nbformat": 4,
 "nbformat_minor": 5
}
