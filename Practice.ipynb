{
 "cells": [
  {
   "cell_type": "code",
   "execution_count": 12,
   "id": "50e3ecad-dc45-46ec-a296-ebb2fa900dfb",
   "metadata": {},
   "outputs": [],
   "source": [
    "import os\n",
    "import json"
   ]
  },
  {
   "cell_type": "code",
   "execution_count": 13,
   "id": "2fc6c017-1a13-4585-bbc7-fd41b96756eb",
   "metadata": {},
   "outputs": [],
   "source": [
    "currentDir = os.getcwd()\n",
    "inputPath = f\"{currentDir}/input/input.json\""
   ]
  },
  {
   "cell_type": "code",
   "execution_count": 14,
   "id": "45f8bec5-4695-4aab-b3ea-fdc70c6a7331",
   "metadata": {},
   "outputs": [
    {
     "data": {
      "text/plain": [
       "'{\"Sepal.Length\":[5.1,4.9,4.7,4.6,5,5.4],\"Sepal.Width\":[3.5,3,3.2,3.1,3.6,3.9],\"Petal.Length\":[1.4,1.4,1.3,1.5,1.4,1.7],\"Petal.Width\":[0.2,0.2,0.2,0.2,0.2,0.4],\"Species\":[\"setosa\",\"setosa\",\"setosa\",\"setosa\",\"setosa\",\"setosa\"]}\\n'"
      ]
     },
     "execution_count": 14,
     "metadata": {},
     "output_type": "execute_result"
    }
   ],
   "source": [
    "A = open(inputPath, 'r')\n",
    "JDATA = A.read()\n",
    "JDATA"
   ]
  },
  {
   "cell_type": "code",
   "execution_count": 2,
   "id": "33295ad6-967c-42ae-8ea6-6b51b7ab6957",
   "metadata": {},
   "outputs": [
    {
     "ename": "NameError",
     "evalue": "name 'currentDir' is not defined",
     "output_type": "error",
     "traceback": [
      "\u001b[1;31m---------------------------------------------------------------------------\u001b[0m",
      "\u001b[1;31mNameError\u001b[0m                                 Traceback (most recent call last)",
      "\u001b[1;32m~\\AppData\\Local\\Temp/ipykernel_17904/1649506189.py\u001b[0m in \u001b[0;36m<module>\u001b[1;34m\u001b[0m\n\u001b[0;32m     11\u001b[0m \u001b[1;33m\u001b[0m\u001b[0m\n\u001b[0;32m     12\u001b[0m \u001b[1;33m\u001b[0m\u001b[0m\n\u001b[1;32m---> 13\u001b[1;33m \u001b[0minputPath\u001b[0m \u001b[1;33m=\u001b[0m \u001b[1;34mf\"{currentDir}/input/input.json\"\u001b[0m\u001b[1;33m\u001b[0m\u001b[0m\n\u001b[0m\u001b[0;32m     14\u001b[0m \u001b[0moutputPath\u001b[0m \u001b[1;33m=\u001b[0m \u001b[1;34mf\"{currentDir}/output/output.txt\"\u001b[0m\u001b[1;33m\u001b[0m\u001b[0m\n\u001b[0;32m     15\u001b[0m \u001b[0moutputPathpdf\u001b[0m \u001b[1;33m=\u001b[0m \u001b[1;34mf\"{currentDir}/output/output.pdf\"\u001b[0m\u001b[1;33m\u001b[0m\u001b[0m\n",
      "\u001b[1;31mNameError\u001b[0m: name 'currentDir' is not defined"
     ]
    }
   ],
   "source": [
    "import os\n",
    "import revText\n",
    "\n",
    "# https://www.arothuis.nl/posts/one-off-docker-images/\n",
    "# Create output and input volume. \n",
    "# Put also the main \n",
    "\n",
    "# docker run -v $pwd/output:/output -v $pwd/input:/input example3\n",
    "# docker run -b C:/Users/Lionel/Python/dockerPractice/output:output C:/Users/Lionel/Python/dockerPractice/input:input example4\n",
    "currentDir = os.path.dirname(__file__)\n",
    "\n",
    "\n",
    "inputPath = f\"{currentDir}/input/input.json\"\n",
    "outputPath = f\"{currentDir}/output/output.txt\"\n",
    "outputPathpdf = f\"{currentDir}/output/output.pdf\"\n",
    "\n",
    "\n",
    "revText.reverseText(inputPath, outputPath)"
   ]
  },
  {
   "cell_type": "code",
   "execution_count": null,
   "id": "75d2e127-5c0e-4ae2-ad07-f310118e7e88",
   "metadata": {},
   "outputs": [],
   "source": []
  }
 ],
 "metadata": {
  "kernelspec": {
   "display_name": "Python 3 (ipykernel)",
   "language": "python",
   "name": "python3"
  },
  "language_info": {
   "codemirror_mode": {
    "name": "ipython",
    "version": 3
   },
   "file_extension": ".py",
   "mimetype": "text/x-python",
   "name": "python",
   "nbconvert_exporter": "python",
   "pygments_lexer": "ipython3",
   "version": "3.7.0"
  }
 },
 "nbformat": 4,
 "nbformat_minor": 5
}
